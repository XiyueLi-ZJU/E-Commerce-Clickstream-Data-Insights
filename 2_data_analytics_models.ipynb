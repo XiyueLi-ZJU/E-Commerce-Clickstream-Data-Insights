{
 "cells": [
  {
   "cell_type": "markdown",
   "metadata": {},
   "source": [
    "* (1) [Session Analysis](./SQL/SessionAnalysis.sql): Summarize how customers interact with pages and products during their sessions \n",
    "* (2) [Product Performance](./SQL/ProductPerformance.sql): Summarize how customers interact with different product categories and individual products, which can be used to support marketing strategies, inventory management, and product development.\n",
    "* (3) [Trend Analysis](./SQL/TrendAnalysis.sql): Track changes in the popularity of different product categories / products and colors to plan inventory and marketing for the season.\n",
    "\n"
   ]
  },
  {
   "cell_type": "markdown",
   "metadata": {},
   "source": [
    "**(1) Session Analysis**\n",
    "\n",
    "This section focuses on understanding how customers interact with pages and products during their sessions \n",
    "\n",
    "Key questions:\n",
    "\n",
    "- On average, how many pages do users visit in a session?\n",
    "- On average, how many products do users visit in a session?\n",
    "- What percentage of sessions are single-page sessions?\n",
    "- Which products are frequently reviewed together? (Find products that are frequently reviewed in the same session.)\n",
    "- Impact of product price on session counts.\n",
    "- Impact of model photography on session counts.\n"
   ]
  },
  {
   "cell_type": "code",
   "execution_count": null,
   "metadata": {
    "vscode": {
     "languageId": "sql"
    }
   },
   "outputs": [],
   "source": [
    "-- On average, how many pages do users visit in a session?\n",
    "\n",
    "SELECT AVG(page_count) AS avg_page_count \n",
    "FROM(\n",
    "\tSELECT session_id, COUNT(page_num) AS page_count\n",
    "\tFROM clickstream\n",
    "\tGROUP BY session_id\n",
    ") "
   ]
  },
  {
   "cell_type": "code",
   "execution_count": null,
   "metadata": {
    "vscode": {
     "languageId": "sql"
    }
   },
   "outputs": [],
   "source": [
    "-- On average, how many products do users visit in a session?\n",
    "\n",
    "SELECT AVG(product_count) as avg_product_count\n",
    "FROM (\n",
    "SELECT session_id, COUNT(DISTINCT(product_id)) as product_count\n",
    "FROM clickstream\n",
    "GROUP BY session_id\n",
    "ORDER BY session_id\n",
    ")"
   ]
  },
  {
   "cell_type": "code",
   "execution_count": null,
   "metadata": {
    "vscode": {
     "languageId": "sql"
    }
   },
   "outputs": [],
   "source": [
    "-- What percentage of sessions are single-page sessions?\n",
    "\n",
    "SELECT \n",
    "    (COUNT(single_page_sessions.session_id) * 100.0 / COUNT(all_sessions.session_id)) AS percentage_single_page_sessions\n",
    "FROM\n",
    "    (SELECT session_id FROM clickstream GROUP BY session_id HAVING COUNT(page_num) = 1) AS single_page_sessions,\n",
    "    (SELECT session_id FROM clickstream GROUP BY session_id) AS all_sessions;"
   ]
  },
  {
   "cell_type": "code",
   "execution_count": null,
   "metadata": {
    "vscode": {
     "languageId": "sql"
    }
   },
   "outputs": [],
   "source": [
    "-- Which products are frequently reviewed together? (Find products that are frequently reviewed in the same session.)\n",
    "SELECT a.product_id AS product1, b.product_id AS product_2, count(*) as frequency\n",
    "FROM (SELECT session_id, product_id FROM clickstream) a\n",
    "JOIN (SELECT session_id, product_id FROM clickstream) b\n",
    "ON a.session_id = b.session_id AND a.product_id < b.product_id\n",
    "GROUP BY a.product_id, b.product_id\n",
    "ORDER BY frequency DESC\n",
    "LIMIT 10;"
   ]
  },
  {
   "cell_type": "code",
   "execution_count": null,
   "metadata": {
    "vscode": {
     "languageId": "sql"
    }
   },
   "outputs": [],
   "source": [
    "-- Impact of product price on session count\n",
    "SELECT product_id,price, count(*) as counts\n",
    "FROM clickstream\n",
    "GROUP BY product_id,price\n",
    "ORDER BY counts DESC"
   ]
  },
  {
   "cell_type": "code",
   "execution_count": null,
   "metadata": {
    "vscode": {
     "languageId": "sql"
    }
   },
   "outputs": [],
   "source": [
    "-- Impact of model photography on session count\n",
    "SELECT model_photography_id, count(*) as counts\n",
    "FROM clickstream\n",
    "GROUP BY model_photography_id\n",
    "ORDER BY counts DESC"
   ]
  },
  {
   "cell_type": "markdown",
   "metadata": {},
   "source": [
    "**(2) Product Performance**\n",
    "\n",
    "This analysis helps understand how customers interact with different product categories and individual products, which can be used to support marketing strategies, inventory management, and product development.\n",
    "\n",
    "Key questions:\n",
    "\n",
    "- What's the most popular product categoey?\n",
    "- What 's the most popular product categoey in each country?\n",
    "- What's the most popular product?\n",
    "- What's the most popular product in each country?\n",
    "- For each product category, which product is most popular? \n",
    "- How does the color preference vary by product category?\n",
    "\n"
   ]
  },
  {
   "cell_type": "code",
   "execution_count": null,
   "metadata": {
    "vscode": {
     "languageId": "sql"
    }
   },
   "outputs": [],
   "source": [
    "-- What's the most popular (frequently reviewed) product categoey?\n",
    "SELECT category_id, COUNT(*) as category_count\n",
    "FROM clickstream\n",
    "GROUP BY category_id\n",
    "ORDER BY category_count DESC\n",
    "LIMIT 10;"
   ]
  },
  {
   "cell_type": "code",
   "execution_count": null,
   "metadata": {
    "vscode": {
     "languageId": "sql"
    }
   },
   "outputs": [],
   "source": [
    "-- What 's the most popular product categoey in each country?\n",
    "WITH CatCounts AS (\n",
    "\tSELECT country_id, category_id, COUNT(*) as category_count\n",
    "\tFROM clickstream\n",
    "\tGROUP BY country_id, category_id\n",
    "),\n",
    "RankedCat AS (\n",
    "\tSELECT country_id, category_id, category_count,\n",
    "\tRANK() OVER (PARTITION BY country_id ORDER BY category_count DESC) as rank\n",
    "\tFROM CatCounts\n",
    ")\n",
    "\n",
    "SELECT con.country,cat.category,r.category_count\n",
    "FROM RankedCat r\n",
    "JOIN category_dim cat ON r.category_id = cat.category_id\n",
    "JOIN country_dim con on r.country_id = con.country_id\n",
    "WHERE r.rank = 1\n",
    "ORDER BY con.country;\n"
   ]
  },
  {
   "cell_type": "code",
   "execution_count": null,
   "metadata": {
    "vscode": {
     "languageId": "sql"
    }
   },
   "outputs": [],
   "source": [
    "-- What's the most popular product?\n",
    "SELECT product_id, COUNT(*) as product_count\n",
    "FROM clickstream\n",
    "GROUP BY product_id\n",
    "ORDER BY product_count DESC\n",
    "LIMIT 10;"
   ]
  },
  {
   "cell_type": "code",
   "execution_count": null,
   "metadata": {
    "vscode": {
     "languageId": "sql"
    }
   },
   "outputs": [],
   "source": [
    "-- What's the most popular product in each country?\n",
    "WITH ProductCounts AS (\n",
    "    SELECT country_id, product_id, COUNT(*) as product_count\n",
    "    FROM clickstream\n",
    "    GROUP BY country_id, product_id\n",
    "),\n",
    "RankedProducts AS (\n",
    "    SELECT country_id, product_id, product_count,\n",
    "    RANK() OVER (PARTITION BY country_id ORDER BY product_count DESC) as rank\n",
    "    FROM ProductCounts\n",
    ")\n",
    "SELECT con.country,r.product_id, r.product_count\n",
    "FROM RankedProducts r\n",
    "LEFT JOIN country_dim con ON r.country_id = con.country_id\n",
    "WHERE r.rank = 1;"
   ]
  },
  {
   "cell_type": "code",
   "execution_count": null,
   "metadata": {
    "vscode": {
     "languageId": "sql"
    }
   },
   "outputs": [],
   "source": [
    "-- For each product category, which product is most popular? \n",
    "\n",
    "WITH product_cat_counts AS (\n",
    "\tSELECT category_id, product_id, count(*) as product_count\n",
    "\tFROM clickstream\n",
    "\tGROUP BY category_id, product_id\n",
    "),\n",
    "product_cat_counts_rank AS (\n",
    "\tSELECT category_id, product_id,product_count,\n",
    "\tRANK() OVER (PARTITION BY category_id ORDER BY product_count DESC) as rank\n",
    "\tFROM product_cat_counts\n",
    ")\n",
    "\n",
    "SELECT cat.category,r.product_id, r.product_count\n",
    "FROM product_cat_counts_rank r\n",
    "LEFT JOIN category_dim cat ON r.category_id=cat.category_id\n",
    "WHERE r.rank=1"
   ]
  },
  {
   "cell_type": "code",
   "execution_count": null,
   "metadata": {
    "vscode": {
     "languageId": "sql"
    }
   },
   "outputs": [],
   "source": [
    "-- How does the color preference vary by product category?\n",
    "\n",
    "WITH cat_color_counts AS (\n",
    "\tSELECT category_id, color_id, count(*) as total_counts\n",
    "\tFROM clickstream\n",
    "\tGROUP BY category_id, color_id\n",
    "\tORDER BY category_id, total_counts DESC\n",
    "),\n",
    "cat_color_counts_rank AS (\n",
    "\tSELECT category_id, color_id, total_counts, Rank() OVER (PARTITION BY category_id ORDER BY total_counts DESC) as rank\n",
    "\tFROM cat_color_counts\n",
    ")\n",
    "\n",
    "SELECT cat.category, col.color,r.total_counts\n",
    "FROM cat_color_counts_rank r\n",
    "LEFT JOIN category_dim cat ON r.category_id = cat.category_id \n",
    "LEFT JOIN color_dim col ON r.color_id = col.color_id\n",
    "WHERE r.rank=1;\n"
   ]
  },
  {
   "cell_type": "markdown",
   "metadata": {},
   "source": [
    "(3) Trend Analysis\n",
    "\n",
    "Trend Analysis tracks changes in the popularity of different product categories / products and colors to plan inventory and marketing for the season.\n",
    "\n",
    "Key questions:\n",
    "\n",
    "- Monthly session trends (Number of website visits per month)\n",
    "- Daily session trends (Number of website visits per day)\n",
    "- Are there specific days of the week when session activity peaks?\n",
    "- How do product preferences change from April to August?\n",
    "- How do product preferences change daily?\n",
    "\n"
   ]
  },
  {
   "cell_type": "code",
   "execution_count": null,
   "metadata": {
    "vscode": {
     "languageId": "sql"
    }
   },
   "outputs": [],
   "source": [
    "-- Monthly session trends (Number of website visits per month)\n",
    "SELECT month,COUNT(DISTINCT(session_id))\n",
    "FROM clickstream\n",
    "GROUP BY month\n",
    "ORDER BY month"
   ]
  },
  {
   "cell_type": "code",
   "execution_count": null,
   "metadata": {
    "vscode": {
     "languageId": "sql"
    }
   },
   "outputs": [],
   "source": [
    "-- Daily session trends (Number of website visits per day)\n",
    "SELECT date_id,COUNT(DISTINCT(session_id))\n",
    "FROM clickstream\n",
    "GROUP BY date_id\n",
    "ORDER BY date_id"
   ]
  },
  {
   "cell_type": "code",
   "execution_count": null,
   "metadata": {
    "vscode": {
     "languageId": "sql"
    }
   },
   "outputs": [],
   "source": [
    "-- Are there specific days of the week when session activity peaks?\n",
    "\n",
    "SELECT day_of_week,COUNT(day_of_week) AS day_of_week_count FROM calendar\n",
    "RIGHT JOIN clickstream\n",
    "ON clickstream.date_id=calendar.date_id\n",
    "GROUP BY day_of_week\n",
    "ORDER BY day_of_week_count DESC"
   ]
  },
  {
   "cell_type": "code",
   "execution_count": null,
   "metadata": {
    "vscode": {
     "languageId": "sql"
    }
   },
   "outputs": [],
   "source": [
    "-- How do product preference change from April to August?\n",
    "SELECT month, product_id, count(*) AS total_count\n",
    "FROM clickstream\n",
    "WHERE month between 4 AND 8\n",
    "GROUP BY month, product_id\n",
    "ORDER BY month, product_id DESC;"
   ]
  },
  {
   "cell_type": "code",
   "execution_count": null,
   "metadata": {
    "vscode": {
     "languageId": "sql"
    }
   },
   "outputs": [],
   "source": [
    "-- How do product preferences change from April to August?\n",
    "SELECT product_id, \n",
    "\tSUM (CASE WHEN month = 4 THEN 1 ELSE 0 END) AS \"April_views\",\n",
    "\tSUM (CASE WHEN month = 5 THEN 1 ELSE 0 END) AS \"May_views\",\n",
    "\tSUM (CASE WHEN month = 6 THEN 1 ELSE 0 END) AS \"June_views\",\n",
    "\tSUM (CASE WHEN month = 7 THEN 1 ELSE 0 END) AS \"July_views\",\n",
    "\tSUM (CASE WHEN month = 8 THEN 1 ELSE 0 END) AS \"August_views\"\n",
    "FROM clickstream\n",
    "GROUP BY product_id\n",
    "ORDER BY product_id"
   ]
  },
  {
   "cell_type": "code",
   "execution_count": null,
   "metadata": {
    "vscode": {
     "languageId": "sql"
    }
   },
   "outputs": [],
   "source": [
    "-- How do product preferences change daily?\n",
    "WITH product_views AS (\n",
    "\tSELECT date_id, category_id,product_id, count(*) AS total_views\n",
    "\tFROM clickstream\n",
    "\tGROUP BY date_id, category_id,product_id\n",
    "\tORDER BY date_id, category_id,product_id DESC\n",
    ")\n",
    "SELECT p.date_id, c.category, p.product_id, p.total_views\n",
    "FROM product_views p\n",
    "LEFT JOIN category_dim c\n",
    "ON p.category_id = c.category_id;"
   ]
  }
 ],
 "metadata": {
  "kernelspec": {
   "display_name": "dataproj",
   "language": "python",
   "name": "python3"
  },
  "language_info": {
   "codemirror_mode": {
    "name": "ipython",
    "version": 3
   },
   "file_extension": ".py",
   "mimetype": "text/x-python",
   "name": "python",
   "nbconvert_exporter": "python",
   "pygments_lexer": "ipython3",
   "version": "3.11.9"
  }
 },
 "nbformat": 4,
 "nbformat_minor": 2
}

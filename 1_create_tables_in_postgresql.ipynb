{
 "cells": [
  {
   "cell_type": "markdown",
   "metadata": {},
   "source": [
    "To ensure data integrity and enable more efficient data query, raw fact data is loaded into a table named **raw_clickstream** and then transformed and loaded into **clickstream** table. \n",
    "\n",
    "In the data description txt file, description of data attributes is provided. The information is organized into dimension tables and then loaded into PostgreSQL. Each dimension table focuses on a specific aspect of data, such as time, product category, and customer geography.\n",
    "\n",
    "🌟 By organizing data into fact and dimension tables and creating relationships between these tables, it becomes easier to analyze and update data. This is also a critical part of building a robust and scable <span style=\"color:blue\">data warehouse</span>  to efficiently adapt to changes in data analytics and reporting requirements."
   ]
  },
  {
   "cell_type": "markdown",
   "metadata": {},
   "source": [
    "<img title=\"rawdata\" alt=\"rawdata\" src=\"./rawdata.png\">\n",
    "\n",
    "![rawdata](rawdata.png)"
   ]
  },
  {
   "cell_type": "markdown",
   "metadata": {},
   "source": [
    "<img title=\"datamodel\" alt=\"datamodel\" src=\"./datamodel.png\">\n",
    "\n",
    "![datamodel](datamodel.png)"
   ]
  },
  {
   "cell_type": "markdown",
   "metadata": {},
   "source": [
    "**Steps**:\n",
    "\n",
    "1. Create a database named ‘OnlineRetail’ in PostgreSQL\n",
    "2. Create a table in database **raw_clickstream** for the raw clickstream data and load data into PostgreSQL.\n",
    "3. Create dimension tables and load data into PostgreSQL\n",
    "4. Transform data in raw_clickstream table and load into processed fact table **clickstream** into PostgreSQL.\n",
    "\n",
    "**Note**: \n",
    "- Avoid using reserved keywords as column names\n"
   ]
  },
  {
   "cell_type": "code",
   "execution_count": null,
   "metadata": {
    "vscode": {
     "languageId": "sql"
    }
   },
   "outputs": [],
   "source": [
    "-- Create raw fact table\n",
    "\n",
    "CREATE TABLE raw_clickstream (\n",
    "    year Int,\n",
    "\tmonth Int,\n",
    "\tday Int,\n",
    "\tsession_order Int,\n",
    "\tcountry VARCHAR(255),\n",
    "\tsession_ID Int,\n",
    "\tpage_1 VARCHAR(255),\n",
    "\tpage_2 VARCHAR(255),\n",
    "\tcolor VARCHAR(255),\n",
    "\tlocation Int,\n",
    "\tmodel_photography Int,\n",
    "\tprice Int,\n",
    "\tprice_2 Int,\n",
    "\tpage Int\n",
    ");"
   ]
  },
  {
   "cell_type": "code",
   "execution_count": null,
   "metadata": {
    "vscode": {
     "languageId": "sql"
    }
   },
   "outputs": [],
   "source": [
    "-- Create dimension tables\n",
    "\n",
    "CREATE TABLE calendar(\n",
    "    date_id INT NOT NULL PRIMARY KEY,\n",
    "\tday INT NOT NULL CHECK (day BETWEEN 1 AND 31),\n",
    "    month INT NOT NULL CHECK (month BETWEEN 1 AND 12),\n",
    "    year INT NOT NULL,\n",
    "    is_weekend BOOLEAN NOT NULL,\n",
    "    day_of_week VARCHAR(255) NOT NULL\n",
    ");\n",
    "ALTER TABLE calendar ADD COLUMN date DATE;\n",
    "UPDATE calendar\n",
    "SET date = TO_DATE(day || '-' || month || '-' || year,'DD-MM-YYYY');\n",
    "\n",
    "CREATE TABLE country_dim(\n",
    "\tcountry_id INT PRIMARY KEY,\n",
    "\tcountry char(255) NOT NULL\n",
    ");\n",
    "\n",
    "SELECT * FROM country_dim\n",
    "\n",
    "CREATE TABLE country_dim(\n",
    "\tcountry_id INT PRIMARY KEY,\n",
    "\tcountry char(255) NOT NULL\n",
    ");\n",
    "\n",
    "CREATE TABLE category_dim(\n",
    "\tcategory_id INT PRIMARY KEY,\n",
    "\tcategory char(255) NOT NULL\n",
    ");\n",
    "\n",
    "CREATE TABLE color_dim(\n",
    "\tcolor_id INT PRIMARY KEY,\n",
    "\tcolor char(255) NOT NULL\n",
    ");\n",
    "\n",
    "CREATE TABLE pagelocation_dim(\n",
    "\tpagelocation_id INT PRIMARY KEY,\n",
    "\tpagelocation char(255) NOT NULL\n",
    ");\n",
    "\n",
    "CREATE TABLE model_photography_dim(\n",
    "\tmodel_photography_id INT PRIMARY KEY,\n",
    "\tmodel_photography char(255) NOT NULL\n",
    ");\n"
   ]
  },
  {
   "cell_type": "code",
   "execution_count": null,
   "metadata": {
    "vscode": {
     "languageId": "sql"
    }
   },
   "outputs": [],
   "source": [
    "-- Create clickstream table and load transformed data\n",
    "\n",
    "CREATE TABLE clickstream (\n",
    "\tyear INT NOT NULL,\n",
    " \tmonth INT NOT NULL CHECK (month BETWEEN 1 AND 12),\n",
    " \tday INT NOT NULL CHECK (day BETWEEN 1 AND 31),\n",
    "\tsession_order Int,\n",
    "\tcountry_id Int,\n",
    "\tsession_id Int,\n",
    "\tcategory_id Int,\n",
    " \tproduct_id VARCHAR(255),\n",
    "    color_id Int,\n",
    "    pagelocation_id Int,\n",
    "    model_photography_id Int,\n",
    "    price Int,\n",
    "    price_2 Int,\n",
    "    page_num Int,\n",
    "    FOREIGN KEY (country_id) REFERENCES country_dim(country_id),\n",
    "    FOREIGN KEY (category_id) REFERENCES category_dim(category_id),\n",
    "    FOREIGN KEY (color_id) REFERENCES color_dim(color_id),\n",
    "    FOREIGN KEY (pagelocation_id) REFERENCES pagelocation_dim(pagelocation_id),\n",
    "    FOREIGN KEY (model_photography_id) REFERENCES model_photography_dim(model_photography_id)\n",
    ");\n",
    "\n",
    "INSERT INTO clickstream (year, month, day,session_order,country_id,session_id,category_id,product_id,color_id,pagelocation_id,model_photography_id,price,price_2,page_num)\n",
    "SELECT year,month,day,session_order,country,session_id,page_1,page_2,color,location,model_photography,price,price_2,page\n",
    "FROM raw_clickstream;\n",
    "\n",
    "ALTER TABLE clickstream ADD COLUMN date_id Int;\n",
    "UPDATE clickstream\n",
    "SET date_id = year*10000+month*100+day;"
   ]
  }
 ],
 "metadata": {
  "kernelspec": {
   "display_name": "dataproj",
   "language": "python",
   "name": "python3"
  },
  "language_info": {
   "codemirror_mode": {
    "name": "ipython",
    "version": 3
   },
   "file_extension": ".py",
   "mimetype": "text/x-python",
   "name": "python",
   "nbconvert_exporter": "python",
   "pygments_lexer": "ipython3",
   "version": "3.11.9"
  }
 },
 "nbformat": 4,
 "nbformat_minor": 2
}

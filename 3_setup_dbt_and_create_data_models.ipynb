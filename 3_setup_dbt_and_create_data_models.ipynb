{
 "cells": [
  {
   "cell_type": "markdown",
   "metadata": {},
   "source": [
    "To automate the routine data transformation processes and enable version-controlled data queries, we can structure and save data into data models using DBT."
   ]
  },
  {
   "cell_type": "code",
   "execution_count": null,
   "metadata": {},
   "outputs": [],
   "source": [
    "# in terminal:\n",
    "\n",
    "# install dbt \n",
    "conda install -c conda-forge dbt-postgres\n",
    "\n",
    "# veryfy the installation \n",
    "dbt --version\n",
    "\n",
    "# initialize a new dbt project \n",
    "dbt init clickstream\n",
    "\n",
    "# provide PostgreSQL configuration information\n",
    "\n",
    "# veryfy the coneection \n",
    "dbt debug\n"
   ]
  },
  {
   "cell_type": "markdown",
   "metadata": {},
   "source": [
    "Then, create dbt model:\n",
    "\n",
    "In the **models** directory in the dbt project folder, create a new SQL file **product_view_analysis_dbt_model.sql**."
   ]
  },
  {
   "cell_type": "code",
   "execution_count": null,
   "metadata": {
    "vscode": {
     "languageId": "sql"
    }
   },
   "outputs": [],
   "source": [
    "-- models/product_views_analysis_dbt_model.sql\n",
    "\n",
    "{{ config(materialized='table') }}\n",
    "\n",
    "WITH product_views AS (\n",
    "\tSELECT date_id, category_id,product_id, count(*) AS total_views\n",
    "\tFROM clickstream\n",
    "\tGROUP BY date_id, category_id,product_id\n",
    "\tORDER BY date_id, category_id,product_id DESC\n",
    ")\n",
    "SELECT p.date_id, c.category, p.product_id, p.total_views\n",
    "FROM product_views p\n",
    "LEFT JOIN category_dim c\n",
    "ON p.category_id = c.category_id\n"
   ]
  },
  {
   "cell_type": "code",
   "execution_count": null,
   "metadata": {},
   "outputs": [],
   "source": [
    "# in terminal, run the dbt model\n",
    "\n",
    "dbt run --model product_views_analysis_dbt_model  "
   ]
  }
 ],
 "metadata": {
  "kernelspec": {
   "display_name": "airflowenv",
   "language": "python",
   "name": "python3"
  },
  "language_info": {
   "codemirror_mode": {
    "name": "ipython",
    "version": 3
   },
   "file_extension": ".py",
   "mimetype": "text/x-python",
   "name": "python",
   "nbconvert_exporter": "python",
   "pygments_lexer": "ipython3",
   "version": "3.11.9"
  }
 },
 "nbformat": 4,
 "nbformat_minor": 2
}

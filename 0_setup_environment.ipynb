{
 "cells": [
  {
   "cell_type": "code",
   "execution_count": null,
   "metadata": {},
   "outputs": [],
   "source": [
    "# create a new environment named 'dataproj' and activate it\n",
    "conda create -n dataproj python=3.11\n",
    "conda activate dataproj"
   ]
  },
  {
   "cell_type": "code",
   "execution_count": null,
   "metadata": {},
   "outputs": [],
   "source": [
    "# install required packages\n",
    "\n",
    "# install pandas \n",
    "conda install -c conda-forge pandas\n",
    "\n",
    "# install matplotlib for data visualization\n",
    "conda install conda-forge::matplotlib\n",
    "\n",
    "# install scikit-learn for machine learning and data mining \n",
    "conda install -c conda-forge scikit-learn\n",
    "\n",
    "# install dbt \n",
    "conda install -c conda-forge dbt-postgres\n",
    "# veryfy the installation \n",
    "dbt --version\n"
   ]
  }
 ],
 "metadata": {
  "kernelspec": {
   "display_name": "dataproj",
   "language": "python",
   "name": "python3"
  },
  "language_info": {
   "codemirror_mode": {
    "name": "ipython",
    "version": 3
   },
   "file_extension": ".py",
   "mimetype": "text/x-python",
   "name": "python",
   "nbconvert_exporter": "python",
   "pygments_lexer": "ipython3",
   "version": "3.11.0"
  }
 },
 "nbformat": 4,
 "nbformat_minor": 2
}
